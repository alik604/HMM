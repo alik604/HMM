{
 "cells": [
  {
   "cell_type": "code",
   "execution_count": null,
   "metadata": {},
   "outputs": [],
   "source": []
  },
  {
   "cell_type": "code",
   "execution_count": null,
   "metadata": {},
   "outputs": [
    {
     "name": "stdout",
     "output_type": "stream",
     "text": [
      "Requirement already satisfied: pomegranate in c:\\users\\t954349\\anaconda3\\lib\\site-packages (0.13.4)\n",
      "Requirement already satisfied: scipy>=0.17.0 in c:\\users\\t954349\\anaconda3\\lib\\site-packages (from pomegranate) (1.4.1)\n",
      "Requirement already satisfied: pyyaml in c:\\users\\t954349\\anaconda3\\lib\\site-packages (from pomegranate) (5.3)\n",
      "Requirement already satisfied: numpy>=1.8.0 in c:\\users\\t954349\\anaconda3\\lib\\site-packages (from pomegranate) (1.18.1)\n",
      "Requirement already satisfied: networkx>=2.0 in c:\\users\\t954349\\anaconda3\\lib\\site-packages (from pomegranate) (2.4)\n",
      "Requirement already satisfied: joblib>=0.9.0b4 in c:\\users\\t954349\\anaconda3\\lib\\site-packages (from pomegranate) (0.14.1)\n",
      "Requirement already satisfied: decorator>=4.3.0 in c:\\users\\t954349\\anaconda3\\lib\\site-packages (from networkx>=2.0->pomegranate) (4.4.1)\n"
     ]
    }
   ],
   "source": [
    "!pip install pomegranate\n",
    "!pip install pygraphviz "
   ]
  },
  {
   "cell_type": "code",
   "execution_count": 1,
   "metadata": {},
   "outputs": [],
   "source": [
    "import pickle\n",
    "import numpy as np\n",
    "import matplotlib.pyplot as plt\n",
    "import pandas as pd \n",
    "from sklearn.preprocessing import MinMaxScaler\n",
    "\n",
    "import mnist\n",
    "%matplotlib inline\n",
    "\n",
    "from pomegranate import *\n",
    "# import pygraphviz\n",
    "\n",
    "\n"
   ]
  },
  {
   "cell_type": "code",
   "execution_count": 2,
   "metadata": {},
   "outputs": [],
   "source": [
    "data = pd.read_csv('https://github.com/nsethi31/Kaggle-Data-Credit-Card-Fraud-Detection/blob/master/creditcard.csv?raw=true')\n",
    "\n",
    "y = data['Class']\n",
    "data.index = data['Time']\n",
    "data.drop(['Time'], axis =1, inplace=True)"
   ]
  },
  {
   "cell_type": "code",
   "execution_count": 3,
   "metadata": {},
   "outputs": [
    {
     "data": {
      "text/html": [
       "<div>\n",
       "<style scoped>\n",
       "    .dataframe tbody tr th:only-of-type {\n",
       "        vertical-align: middle;\n",
       "    }\n",
       "\n",
       "    .dataframe tbody tr th {\n",
       "        vertical-align: top;\n",
       "    }\n",
       "\n",
       "    .dataframe thead th {\n",
       "        text-align: right;\n",
       "    }\n",
       "</style>\n",
       "<table border=\"1\" class=\"dataframe\">\n",
       "  <thead>\n",
       "    <tr style=\"text-align: right;\">\n",
       "      <th></th>\n",
       "      <th>0</th>\n",
       "      <th>1</th>\n",
       "      <th>2</th>\n",
       "      <th>3</th>\n",
       "      <th>4</th>\n",
       "      <th>5</th>\n",
       "      <th>6</th>\n",
       "    </tr>\n",
       "  </thead>\n",
       "  <tbody>\n",
       "    <tr>\n",
       "      <th>0</th>\n",
       "      <td>66</td>\n",
       "      <td>53</td>\n",
       "      <td>22</td>\n",
       "      <td>59</td>\n",
       "      <td>40</td>\n",
       "      <td>1</td>\n",
       "      <td>0</td>\n",
       "    </tr>\n",
       "    <tr>\n",
       "      <th>1</th>\n",
       "      <td>53</td>\n",
       "      <td>54</td>\n",
       "      <td>29</td>\n",
       "      <td>57</td>\n",
       "      <td>41</td>\n",
       "      <td>0</td>\n",
       "      <td>0</td>\n",
       "    </tr>\n",
       "    <tr>\n",
       "      <th>2</th>\n",
       "      <td>43</td>\n",
       "      <td>38</td>\n",
       "      <td>23</td>\n",
       "      <td>57</td>\n",
       "      <td>40</td>\n",
       "      <td>4</td>\n",
       "      <td>0</td>\n",
       "    </tr>\n",
       "    <tr>\n",
       "      <th>3</th>\n",
       "      <td>29</td>\n",
       "      <td>69</td>\n",
       "      <td>21</td>\n",
       "      <td>58</td>\n",
       "      <td>42</td>\n",
       "      <td>1</td>\n",
       "      <td>0</td>\n",
       "    </tr>\n",
       "    <tr>\n",
       "      <th>4</th>\n",
       "      <td>68</td>\n",
       "      <td>42</td>\n",
       "      <td>37</td>\n",
       "      <td>60</td>\n",
       "      <td>44</td>\n",
       "      <td>0</td>\n",
       "      <td>0</td>\n",
       "    </tr>\n",
       "    <tr>\n",
       "      <th>...</th>\n",
       "      <td>...</td>\n",
       "      <td>...</td>\n",
       "      <td>...</td>\n",
       "      <td>...</td>\n",
       "      <td>...</td>\n",
       "      <td>...</td>\n",
       "      <td>...</td>\n",
       "    </tr>\n",
       "    <tr>\n",
       "      <th>2995</th>\n",
       "      <td>80</td>\n",
       "      <td>67</td>\n",
       "      <td>19</td>\n",
       "      <td>58</td>\n",
       "      <td>41</td>\n",
       "      <td>0</td>\n",
       "      <td>0</td>\n",
       "    </tr>\n",
       "    <tr>\n",
       "      <th>2996</th>\n",
       "      <td>74</td>\n",
       "      <td>53</td>\n",
       "      <td>27</td>\n",
       "      <td>54</td>\n",
       "      <td>42</td>\n",
       "      <td>0</td>\n",
       "      <td>0</td>\n",
       "    </tr>\n",
       "    <tr>\n",
       "      <th>2997</th>\n",
       "      <td>67</td>\n",
       "      <td>50</td>\n",
       "      <td>19</td>\n",
       "      <td>47</td>\n",
       "      <td>34</td>\n",
       "      <td>0</td>\n",
       "      <td>0</td>\n",
       "    </tr>\n",
       "    <tr>\n",
       "      <th>2998</th>\n",
       "      <td>67</td>\n",
       "      <td>50</td>\n",
       "      <td>19</td>\n",
       "      <td>47</td>\n",
       "      <td>34</td>\n",
       "      <td>0</td>\n",
       "      <td>0</td>\n",
       "    </tr>\n",
       "    <tr>\n",
       "      <th>2999</th>\n",
       "      <td>67</td>\n",
       "      <td>50</td>\n",
       "      <td>19</td>\n",
       "      <td>47</td>\n",
       "      <td>34</td>\n",
       "      <td>0</td>\n",
       "      <td>0</td>\n",
       "    </tr>\n",
       "  </tbody>\n",
       "</table>\n",
       "<p>3000 rows × 7 columns</p>\n",
       "</div>"
      ],
      "text/plain": [
       "       0   1   2   3   4  5  6\n",
       "0     66  53  22  59  40  1  0\n",
       "1     53  54  29  57  41  0  0\n",
       "2     43  38  23  57  40  4  0\n",
       "3     29  69  21  58  42  1  0\n",
       "4     68  42  37  60  44  0  0\n",
       "...   ..  ..  ..  ..  .. .. ..\n",
       "2995  80  67  19  58  41  0  0\n",
       "2996  74  53  27  54  42  0  0\n",
       "2997  67  50  19  47  34  0  0\n",
       "2998  67  50  19  47  34  0  0\n",
       "2999  67  50  19  47  34  0  0\n",
       "\n",
       "[3000 rows x 7 columns]"
      ]
     },
     "execution_count": 3,
     "metadata": {},
     "output_type": "execute_result"
    }
   ],
   "source": [
    "data_sample = data.iloc[:3000,23:]\n",
    "# y_sample = y[:5000]\n",
    "# data_sample.head(3)\n",
    "data_sample = data_sample.values\n",
    "data_sample = MinMaxScaler(feature_range=(0,100)).fit_transform(data_sample)\n",
    "data_sample = data_sample.astype(int)\n",
    "pd.DataFrame(data_sample)"
   ]
  },
  {
   "cell_type": "code",
   "execution_count": null,
   "metadata": {},
   "outputs": [],
   "source": [
    "# X = numpy.random.randint(5, size=(10000, 6))\n",
    "model = MarkovNetwork.from_samples(data_sample, n_jobs = 3)"
   ]
  },
  {
   "cell_type": "code",
   "execution_count": null,
   "metadata": {},
   "outputs": [],
   "source": [
    "# state_names = ['a', 'b', 'c', 'd', 'e', 'f', 'g', 'h', 'i', 'j']\n",
    "\n",
    "# model = BayesianNetwork.from_samples(data_sample, n_jobs = 3)"
   ]
  },
  {
   "cell_type": "code",
   "execution_count": null,
   "metadata": {},
   "outputs": [],
   "source": [
    "# model.predict(data_sample)"
   ]
  },
  {
   "cell_type": "code",
   "execution_count": null,
   "metadata": {},
   "outputs": [],
   "source": [
    "# model.plot()\n",
    "# model.structure\n",
    "# HiddenMarkovModel.from_samples(data_sample, 5, X, max_iterations=5)"
   ]
  },
  {
   "cell_type": "code",
   "execution_count": null,
   "metadata": {},
   "outputs": [],
   "source": [
    "data_sample.shape"
   ]
  },
  {
   "cell_type": "code",
   "execution_count": null,
   "metadata": {},
   "outputs": [],
   "source": []
  },
  {
   "cell_type": "code",
   "execution_count": null,
   "metadata": {},
   "outputs": [],
   "source": []
  },
  {
   "cell_type": "code",
   "execution_count": null,
   "metadata": {},
   "outputs": [],
   "source": []
  }
 ],
 "metadata": {
  "kernelspec": {
   "display_name": "Python 3",
   "language": "python",
   "name": "python3"
  },
  "language_info": {
   "codemirror_mode": {
    "name": "ipython",
    "version": 3
   },
   "file_extension": ".py",
   "mimetype": "text/x-python",
   "name": "python",
   "nbconvert_exporter": "python",
   "pygments_lexer": "ipython3",
   "version": "3.7.6"
  }
 },
 "nbformat": 4,
 "nbformat_minor": 4
}
